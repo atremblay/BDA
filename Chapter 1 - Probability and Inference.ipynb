{
 "cells": [
  {
   "cell_type": "code",
   "execution_count": 7,
   "metadata": {
    "collapsed": false
   },
   "outputs": [],
   "source": [
    "%matplotlib inline"
   ]
  },
  {
   "cell_type": "code",
   "execution_count": 8,
   "metadata": {
    "collapsed": true
   },
   "outputs": [],
   "source": [
    "from sympy.stats import Normal, density, DiscreteUniform, P, sample, Die, Coin, given, E\n",
    "from sympy import Symbol, pprint, symbols, Symbol, Eq, lambdify, init_printing, simplify\n",
    "init_printing() "
   ]
  },
  {
   "cell_type": "code",
   "execution_count": 9,
   "metadata": {
    "collapsed": true
   },
   "outputs": [],
   "source": [
    "from ipywidgets import interact, IntSlider, FloatSlider\n",
    "import matplotlib.pyplot as plt\n",
    "import numpy as np"
   ]
  },
  {
   "cell_type": "markdown",
   "metadata": {},
   "source": [
    "# Additionnal Notes"
   ]
  },
  {
   "cell_type": "markdown",
   "metadata": {},
   "source": [
    "## Section 1.3 Bayesian inference"
   ]
  },
  {
   "cell_type": "markdown",
   "metadata": {},
   "source": [
    "(Page 6) The *geometric mean* is presented in a way I never saw before, $(\\prod_{i=1}^N{\\theta_i})^{\\frac{1}{N}}=exp(E[log(\\theta)])$. Here's the equation break down:<br><br>\n",
    "$$exp\\left(E[log(\\theta)]\\right)=exp\\left(\\sum{log(\\theta)p(\\theta)}\\right)\\\\\n",
    "=\\prod{exp\\left(log(\\theta)p(\\theta)\\right)}=\\prod{\\left(exp(log(\\theta))\\right)^{p(\\theta)}}\\\\\n",
    "=\\prod{\\theta^{p(\\theta)}}=\\left(\\prod{\\theta}\\right)^{p(\\theta)}$$\n",
    "This is good for a weighted. If $p(\\theta)=\\frac{1}{N}$ then we found the usual suspect $\\left(\\prod{\\theta}\\right)^{\\frac{1}{N}}$"
   ]
  },
  {
   "cell_type": "markdown",
   "metadata": {},
   "source": [
    "I didn't know about *coefficient of variation* and *geometric standard deviation*, so I didn't bother to do the math."
   ]
  },
  {
   "cell_type": "markdown",
   "metadata": {},
   "source": [
    "## Section 1.4 Discrete probability examples: genetics and spell checking"
   ]
  },
  {
   "cell_type": "markdown",
   "metadata": {},
   "source": [
    "(page 9) It was not obvious to me how the posterior probability was calculated for the third son\n",
    "$$Pr(\\theta=1|y_1,y_2,y_3)=\\frac{(0.5)(0.2)}{(0.5)(0.2)+(1)(0.8)}$$"
   ]
  },
  {
   "cell_type": "markdown",
   "metadata": {},
   "source": [
    "Best thing to do in that case is to go back to the basics\n",
    "$$Pr(\\theta=1|y_1,y_2,y_3)=\\frac{Pr(\\theta=1,y_1,y_2,y_3)}{Pr(y_1,y_2,y_3)}\\\\\n",
    "=\\frac{Pr(\\theta=1,y_1,y_2,y_3)}{Pr(y_1,y_2,y_3)}$$"
   ]
  },
  {
   "cell_type": "markdown",
   "metadata": {},
   "source": [
    "Let's work on the numerator first <br>\n",
    "$Pr(\\theta=1,y_1,y_2,y_3)$<br>\n",
    "$=Pr(y_3|\\theta=1,y_1,y_2)Pr(\\theta=1,y_1,y_2)$<br>\n",
    "$=Pr(y_3|\\theta=1)Pr(\\theta=1,y_1,y_2)$ *because of the conditional independance on $\\theta$*<br>\n",
    "$=Pr(y_3|\\theta=1)Pr(\\theta=1|y_1,y_2)Pr(y_1,y_2)$ *simple Bayes rule*"
   ]
  },
  {
   "cell_type": "markdown",
   "metadata": {},
   "source": [
    "Denominator\n",
    "$Pr(y_1,y_2,y_3)$<br>\n",
    "$=Pr(y_1,y_2,y_3,\\theta=0)+Pr(y_1,y_2,y_3,\\theta=1)$<br>\n",
    "$=Pr(y_3|\\theta=0,y_1,y_2)Pr(\\theta=0,y_1,y_2)+Pr(y_3|\\theta=1,y_1,y_2)Pr(\\theta=1,y_1,y_2)$<br>\n",
    "$=Pr(y_3|\\theta=0)Pr(\\theta=0|y_1,y_2)Pr(y_1,y_2)+Pr(y_3|\\theta=1)Pr(\\theta=1|y_1,y_2)Pr(y_1,y_2)$ *same as above*<br>"
   ]
  },
  {
   "cell_type": "markdown",
   "metadata": {},
   "source": [
    "Put everything together<br>\n",
    "$\\frac{Pr(y_3|\\theta=1)Pr(\\theta=1|y_1,y_2)Pr(y_1,y_2)}{Pr(y_3|\\theta=1)Pr(\\theta=1|y_1,y_2)Pr(y_1,y_2)+Pr(y_3|\\theta=0)Pr(\\theta=0|y_1,y_2)Pr(y_1,y_2)}$<br>\n",
    "$=\\frac{Pr(y_3|\\theta=1)Pr(\\theta=1|y_1,y_2)}{Pr(y_3|\\theta=1)Pr(\\theta=1|y_1,y_2)+Pr(y_3|\\theta=0)Pr(\\theta=0|y_1,y_2)}$<br>\n",
    "$=\\frac{(0.5)(0.2)}{(0.5)(0.2)+(1)(0.8)}$"
   ]
  },
  {
   "cell_type": "markdown",
   "metadata": {},
   "source": [
    "# Exercices"
   ]
  },
  {
   "cell_type": "markdown",
   "metadata": {},
   "source": [
    "<dl>\n",
    "    <dt>1</dt>\n",
    "    <dd>Conditional probability: suppose that if $\\theta=1$, then *y* has a normal distribution with mean 1 and standard deviation $\\sigma$, and if $\\theta=2$, then *y* has a normal distribution with mean 2 and standard deviation $\\sigma$. Also, suppose $Pr(\\theta=1)=0.5$ and $Pr(\\theta=2)=0.5$\n",
    "    </dd>\n",
    "</dl>"
   ]
  },
  {
   "cell_type": "code",
   "execution_count": 10,
   "metadata": {
    "collapsed": true
   },
   "outputs": [],
   "source": [
    "sigma = Symbol(\"sigma\", positive=True)\n",
    "mu = DiscreteUniform('mu', [1,2])\n",
    "N = Normal('normal', mu, sigma)"
   ]
  },
  {
   "cell_type": "markdown",
   "metadata": {},
   "source": [
    "<dl>\n",
    "    <dt>1a</dt>\n",
    "    <dd>For $\\sigma=2$, write the formula for the marginal probability density for *y* and sketch it\n",
    "    </dd>\n",
    "</dl>"
   ]
  },
  {
   "cell_type": "code",
   "execution_count": 11,
   "metadata": {
    "collapsed": false
   },
   "outputs": [
    {
     "data": {
      "image/png": "[encoded data removed]",
      "text/latex": [
       "$$\\frac{\\sqrt{2} e^{- \\frac{\\left(normal - 1\\right)^{2}}{2 \\sigma^{2}}}}{4 \\sqrt{\\pi} \\sigma} + \\frac{\\sqrt{2} e^{- \\frac{\\left(normal - 2\\right)^{2}}{2 \\sigma^{2}}}}{4 \\sqrt{\\pi} \\sigma}$$"
      ],
      "text/plain": [
       "                    2                        2 \n",
       "       -(normal - 1)            -(normal - 2)  \n",
       "       ───────────────          ───────────────\n",
       "                2                        2     \n",
       "  ___        2⋅σ           ___        2⋅σ      \n",
       "╲╱ 2 ⋅ℯ                  ╲╱ 2 ⋅ℯ               \n",
       "────────────────────── + ──────────────────────\n",
       "          ___                      ___         \n",
       "      4⋅╲╱ π ⋅σ                4⋅╲╱ π ⋅σ       "
      ]
     },
     "execution_count": 11,
     "metadata": {},
     "output_type": "execute_result"
    }
   ],
   "source": [
    "marginal = sum(P(Eq(mu,i))*given(N, Eq(mu,i)).pspace.pdf for i in [1,2])\n",
    "marginal"
   ]
  },
  {
   "cell_type": "code",
   "execution_count": 12,
   "metadata": {
    "collapsed": false
   },
   "outputs": [
    {
     "data": {
      "text/plain": [
       "[<matplotlib.lines.Line2D at 0x108c9f898>]"
      ]
     },
     "execution_count": 12,
     "metadata": {},
     "output_type": "execute_result"
    },
    {
     "data": {
      "image/png": "[encoded data removed]",
      "text/plain": [
       "<matplotlib.figure.Figure at 0x107f2a358>"
      ]
     },
     "metadata": {},
     "output_type": "display_data"
    }
   ],
   "source": [
    "X = np.linspace(-5,5,100)\n",
    "f = lambdify(N, marginal.subs(sigma, 2), \"numpy\")\n",
    "plt.plot(X, f(X))"
   ]
  },
  {
   "cell_type": "markdown",
   "metadata": {},
   "source": [
    "<dl>\n",
    "    <dt>1b</dt>\n",
    "    <dd>What is $Pr(\\theta=1|y=1)$, again supposing $\\sigma=2$?\n",
    "    </dd>\n",
    "</dl>"
   ]
  },
  {
   "cell_type": "code",
   "execution_count": 13,
   "metadata": {
    "collapsed": false
   },
   "outputs": [
    {
     "data": {
      "image/png": "[encoded data removed]",
      "text/latex": [
       "$$\\frac{e^{\\frac{1}{2}}}{e^{\\frac{normal}{4} + \\frac{1}{8}} + e^{\\frac{1}{2}}}$$"
      ],
      "text/plain": [
       "        1/2       \n",
       "       ℯ          \n",
       "──────────────────\n",
       " normal   1       \n",
       " ────── + ─       \n",
       "   4      8    1/2\n",
       "ℯ           + ℯ   "
      ]
     },
     "execution_count": 13,
     "metadata": {},
     "output_type": "execute_result"
    }
   ],
   "source": [
    "sampling_dist = given(N, Eq(mu,1)).pspace.pdf\n",
    "prior = P(Eq(mu,1))\n",
    "post = prior * sampling_dist / marginal\n",
    "simplify(post.subs(sigma, 2))"
   ]
  },
  {
   "cell_type": "markdown",
   "metadata": {},
   "source": [
    "<dl>\n",
    "    <dt>1c</dt>\n",
    "    <dd>Describe how the posterior density of $\\theta$ changes in shape as $\\sigma$ is increased and is it is decreased.\n",
    "    </dd>\n",
    "</dl>"
   ]
  },
  {
   "cell_type": "code",
   "execution_count": 17,
   "metadata": {
    "collapsed": false
   },
   "outputs": [
    {
     "data": {
      "image/png": "[encoded data removed]",
      "text/latex": [
       "$$\\frac{\\sqrt{2} e^{- \\frac{\\left(normal - 1\\right)^{2}}{2 \\sigma^{2}}}}{4 \\sqrt{\\pi} \\sigma \\left(\\frac{\\sqrt{2} e^{- \\frac{\\left(normal - 1\\right)^{2}}{2 \\sigma^{2}}}}{4 \\sqrt{\\pi} \\sigma} + \\frac{\\sqrt{2} e^{- \\frac{\\left(normal - 2\\right)^{2}}{2 \\sigma^{2}}}}{4 \\sqrt{\\pi} \\sigma}\\right)}$$"
      ],
      "text/plain": [
       "                                       2                   \n",
       "                          -(normal - 1)                    \n",
       "                          ───────────────                  \n",
       "                                   2                       \n",
       "                     ___        2⋅σ                        \n",
       "                   ╲╱ 2 ⋅ℯ                                 \n",
       "───────────────────────────────────────────────────────────\n",
       "          ⎛                    2                        2 ⎞\n",
       "          ⎜       -(normal - 1)            -(normal - 2)  ⎟\n",
       "          ⎜       ───────────────          ───────────────⎟\n",
       "          ⎜                2                        2     ⎟\n",
       "          ⎜  ___        2⋅σ           ___        2⋅σ      ⎟\n",
       "    ___   ⎜╲╱ 2 ⋅ℯ                  ╲╱ 2 ⋅ℯ               ⎟\n",
       "4⋅╲╱ π ⋅σ⋅⎜────────────────────── + ──────────────────────⎟\n",
       "          ⎜          ___                      ___         ⎟\n",
       "          ⎝      4⋅╲╱ π ⋅σ                4⋅╲╱ π ⋅σ       ⎠"
      ]
     },
     "execution_count": 17,
     "metadata": {},
     "output_type": "execute_result"
    }
   ],
   "source": [
    "post"
   ]
  },
  {
   "cell_type": "code",
   "execution_count": 18,
   "metadata": {
    "collapsed": false
   },
   "outputs": [
    {
     "data": {
      "image/png": "[encoded data removed]",
      "text/latex": [
       "$$\\frac{e^{\\frac{2}{\\sigma^{2}}}}{e^{\\frac{2}{\\sigma^{2}}} + e^{\\frac{2 normal + 1}{2 \\sigma^{2}}}}$$"
      ],
      "text/plain": [
       "         2         \n",
       "         ──        \n",
       "          2        \n",
       "         σ         \n",
       "        ℯ          \n",
       "───────────────────\n",
       " 2     2⋅normal + 1\n",
       " ──    ────────────\n",
       "  2           2    \n",
       " σ         2⋅σ     \n",
       "ℯ   + ℯ            "
      ]
     },
     "execution_count": 18,
     "metadata": {},
     "output_type": "execute_result"
    }
   ],
   "source": [
    "simplify(post)"
   ]
  },
  {
   "cell_type": "markdown",
   "metadata": {},
   "source": [
    "Might as well plot it as a function of $\\sigma$"
   ]
  },
  {
   "cell_type": "code",
   "execution_count": 27,
   "metadata": {
    "collapsed": false
   },
   "outputs": [
    {
     "name": "stdout",
     "output_type": "stream",
     "text": [
      "[              nan               nan               nan               nan\n",
      "               nan               nan               nan               nan\n",
      "               nan               nan               nan               nan\n",
      "               nan               nan               nan               nan\n",
      "               nan               nan               nan               nan\n",
      "               nan               nan               nan               nan\n",
      "               nan               nan               nan               nan\n",
      "               nan               nan               nan               nan\n",
      "               nan               nan               nan               nan\n",
      "               nan               nan               nan               nan\n",
      "               nan               nan               nan               nan\n",
      "               nan               nan               nan               nan\n",
      "               nan               nan               nan               nan\n",
      "               nan               nan               nan               nan\n",
      "               nan               nan               nan               nan\n",
      "               nan               nan               nan               nan\n",
      "               nan               nan               nan               nan\n",
      "               nan               nan               nan               nan\n",
      "               nan               nan               nan               nan\n",
      "               nan               nan               nan               nan\n",
      "               nan               nan               nan               nan\n",
      "               nan               nan               nan               nan\n",
      "               nan               nan               nan               nan\n",
      "               nan               nan               nan               nan\n",
      "               nan               nan               nan               nan\n",
      "               nan               nan               nan               nan\n",
      "               nan               nan               nan               nan\n",
      "               nan               nan               nan               nan\n",
      "               nan               nan               nan               nan\n",
      "               nan               nan               nan               nan\n",
      "               nan               nan               nan               nan\n",
      "               nan               nan               nan               nan\n",
      "               nan               nan               nan               nan\n",
      "               nan               nan               nan               nan\n",
      "               nan               nan               nan               nan\n",
      "               nan               nan               nan               nan\n",
      "               nan               nan               nan               nan\n",
      "               nan               nan               nan               nan\n",
      "               nan               nan               nan               nan\n",
      "               nan               nan               nan               nan\n",
      "               nan               nan               nan               nan\n",
      "               nan               nan               nan               nan\n",
      "               nan               nan               nan               nan\n",
      "               nan               nan               nan               nan\n",
      "               nan               nan               nan               nan\n",
      "               nan               nan               nan               nan\n",
      "               nan               nan               nan               nan\n",
      "               nan               nan               nan               nan\n",
      "               nan               nan               nan               nan\n",
      "               nan               nan               nan               nan\n",
      "               nan               nan               nan               nan\n",
      "               nan               nan               nan               nan\n",
      "               nan               nan               nan               nan\n",
      "               nan               nan               nan               nan\n",
      "               nan               nan               nan               nan\n",
      "               nan               nan               nan               nan\n",
      "               nan               nan               nan               nan\n",
      "               nan               nan               nan               nan\n",
      "               nan               nan               nan               nan\n",
      "               nan               nan               nan               nan\n",
      "               nan               nan               nan               nan\n",
      "               nan               nan               nan               nan\n",
      "               nan               nan               nan               nan\n",
      "               nan               nan               nan               nan\n",
      "               nan               nan               nan               nan\n",
      "               nan               nan               nan               nan\n",
      "               nan               nan               nan               nan\n",
      "               nan               nan               nan               nan\n",
      "               nan               nan               nan               nan\n",
      "               nan               nan               nan               nan\n",
      "               nan               nan               nan               nan\n",
      "               nan               nan               nan               nan\n",
      "               nan               nan               nan               nan\n",
      "               nan               nan               nan               nan\n",
      "               nan               nan               nan               nan\n",
      "               nan               nan               nan               nan\n",
      "               nan               nan               nan               nan\n",
      "               nan               nan               nan               nan\n",
      "               nan               nan               nan               nan\n",
      "               nan               nan               nan               nan\n",
      "               nan               nan               nan               nan\n",
      "               nan               nan               nan               nan\n",
      "               nan               nan               nan               nan\n",
      "               nan               nan               nan               nan\n",
      "               nan               nan               nan               nan\n",
      "               nan               nan               nan               nan\n",
      "               nan               nan               nan               nan\n",
      "               nan               nan               nan               nan\n",
      "               nan               nan               nan               nan\n",
      "               nan               nan               nan               nan\n",
      "               nan               nan               nan               nan\n",
      "               nan               nan               nan               nan\n",
      "               nan               nan               nan               nan\n",
      "               nan               nan               nan               nan\n",
      "               nan               nan               nan               nan\n",
      "               nan               nan               nan               nan\n",
      "               nan               nan               nan               nan\n",
      "               nan               nan               nan               nan\n",
      "               nan               nan               nan               nan\n",
      "               nan               nan               nan               nan\n",
      "               nan               nan               nan               nan\n",
      "               nan               nan               nan               nan\n",
      "               nan               nan               nan               nan\n",
      "               nan               nan               nan               nan\n",
      "               nan               nan               nan               nan\n",
      "               nan               nan               nan               nan\n",
      "               nan               nan               nan               nan\n",
      "               nan               nan               nan               nan\n",
      "               nan               nan               nan               nan\n",
      "               nan               nan               nan               nan\n",
      "               nan               nan               nan               nan\n",
      "               nan               nan               nan               nan\n",
      "               nan               nan               nan               nan\n",
      "               nan               nan               nan               nan\n",
      "               nan               nan               nan               nan\n",
      "               nan               nan               nan               nan\n",
      "               nan               nan               nan               nan\n",
      "               nan               nan               nan   1.00000000e+000\n",
      "   1.00000000e+000   1.00000000e+000   1.00000000e+000   1.00000000e+000\n",
      "   1.00000000e+000   1.00000000e+000   1.00000000e+000   1.00000000e+000\n",
      "   1.00000000e+000   1.00000000e+000   1.00000000e+000   1.00000000e+000\n",
      "   1.00000000e+000   1.00000000e+000   1.00000000e+000   1.00000000e+000\n",
      "   1.00000000e+000   1.00000000e+000   1.00000000e+000   1.00000000e+000\n",
      "   1.00000000e+000   1.00000000e+000   1.00000000e+000   1.00000000e+000\n",
      "   1.00000000e+000   1.00000000e+000   1.00000000e+000   1.00000000e+000\n",
      "   1.00000000e+000   1.00000000e+000   1.00000000e+000   1.00000000e+000\n",
      "   1.00000000e+000   1.00000000e+000   1.00000000e+000   1.00000000e+000\n",
      "   1.00000000e+000   1.00000000e+000   1.00000000e+000   1.00000000e+000\n",
      "   1.00000000e+000   9.99999650e-001   9.92269758e-001   5.73648767e-003\n",
      "   2.59329749e-007   1.16562899e-011   5.23923923e-016   2.35491978e-020\n",
      "   1.05848329e-024   4.75764350e-029   2.13845337e-033   9.61186525e-038\n",
      "   4.32031649e-042   1.94188475e-046   8.72833367e-051   3.92318898e-055\n",
      "   1.76338490e-059   7.92601713e-064   3.56256581e-068   1.60129292e-072\n",
      "   7.19745028e-077   3.23509145e-081   1.45410059e-085   6.53585396e-090\n",
      "   2.93771884e-094   1.32043831e-098   5.93507220e-103   2.66768100e-107\n",
      "   1.19906240e-111   5.38951485e-116   2.42246528e-120   1.08884347e-124\n",
      "   4.89410564e-129   2.19979003e-133   9.88755967e-138   4.44423491e-142\n",
      "   1.86517853e-146   0.00000000e+000   0.00000000e+000   0.00000000e+000\n",
      "   0.00000000e+000   0.00000000e+000   0.00000000e+000   0.00000000e+000\n",
      "   0.00000000e+000   0.00000000e+000   0.00000000e+000               nan\n",
      "               nan               nan               nan               nan\n",
      "               nan               nan               nan               nan\n",
      "               nan               nan               nan               nan\n",
      "               nan               nan               nan               nan\n",
      "               nan               nan               nan               nan\n",
      "               nan               nan               nan               nan\n",
      "               nan               nan               nan               nan\n",
      "               nan               nan               nan               nan\n",
      "               nan               nan               nan               nan\n",
      "               nan               nan               nan               nan\n",
      "               nan               nan               nan               nan\n",
      "               nan               nan               nan               nan\n",
      "               nan               nan               nan               nan\n",
      "               nan               nan               nan               nan\n",
      "               nan               nan               nan               nan\n",
      "               nan               nan               nan               nan\n",
      "               nan               nan               nan               nan\n",
      "               nan               nan               nan               nan\n",
      "               nan               nan               nan               nan\n",
      "               nan               nan               nan               nan\n",
      "               nan               nan               nan               nan\n",
      "               nan               nan               nan               nan\n",
      "               nan               nan               nan               nan\n",
      "               nan               nan               nan               nan\n",
      "               nan               nan               nan               nan\n",
      "               nan               nan               nan               nan\n",
      "               nan               nan               nan               nan\n",
      "               nan               nan               nan               nan\n",
      "               nan               nan               nan               nan\n",
      "               nan               nan               nan               nan\n",
      "               nan               nan               nan               nan\n",
      "               nan               nan               nan               nan\n",
      "               nan               nan               nan               nan\n",
      "               nan               nan               nan               nan\n",
      "               nan               nan               nan               nan\n",
      "               nan               nan               nan               nan\n",
      "               nan               nan               nan               nan\n",
      "               nan               nan               nan               nan\n",
      "               nan               nan               nan               nan\n",
      "               nan               nan               nan               nan\n",
      "               nan               nan               nan               nan\n",
      "               nan               nan               nan               nan\n",
      "               nan               nan               nan               nan\n",
      "               nan               nan               nan               nan\n",
      "               nan               nan               nan               nan\n",
      "               nan               nan               nan               nan\n",
      "               nan               nan               nan               nan\n",
      "               nan               nan               nan               nan\n",
      "               nan               nan               nan               nan\n",
      "               nan               nan               nan               nan\n",
      "               nan               nan               nan               nan\n",
      "               nan               nan               nan               nan\n",
      "               nan               nan               nan               nan\n",
      "               nan               nan               nan               nan\n",
      "               nan               nan               nan               nan\n",
      "               nan               nan               nan               nan\n",
      "               nan               nan               nan               nan\n",
      "               nan               nan               nan               nan\n",
      "               nan               nan               nan               nan\n",
      "               nan               nan               nan               nan\n",
      "               nan               nan               nan               nan\n",
      "               nan               nan               nan               nan\n",
      "               nan               nan               nan               nan\n",
      "               nan               nan               nan               nan\n",
      "               nan               nan               nan               nan\n",
      "               nan               nan               nan               nan\n",
      "               nan               nan               nan               nan\n",
      "               nan               nan               nan               nan\n",
      "               nan               nan               nan               nan\n",
      "               nan               nan               nan               nan\n",
      "               nan               nan               nan               nan\n",
      "               nan               nan               nan               nan\n",
      "               nan               nan               nan               nan\n",
      "               nan               nan               nan               nan\n",
      "               nan               nan               nan               nan\n",
      "               nan               nan               nan               nan\n",
      "               nan               nan               nan               nan\n",
      "               nan               nan               nan               nan\n",
      "               nan               nan               nan               nan\n",
      "               nan               nan               nan               nan\n",
      "               nan               nan               nan               nan\n",
      "               nan               nan               nan               nan\n",
      "               nan               nan               nan               nan\n",
      "               nan               nan               nan               nan\n",
      "               nan               nan               nan               nan\n",
      "               nan               nan               nan               nan\n",
      "               nan               nan               nan               nan\n",
      "               nan               nan               nan               nan\n",
      "               nan               nan               nan               nan\n",
      "               nan               nan               nan               nan\n",
      "               nan               nan               nan               nan\n",
      "               nan               nan               nan               nan\n",
      "               nan               nan               nan               nan\n",
      "               nan               nan               nan               nan\n",
      "               nan               nan               nan               nan\n",
      "               nan               nan               nan               nan\n",
      "               nan               nan               nan               nan\n",
      "               nan               nan               nan               nan\n",
      "               nan               nan               nan               nan\n",
      "               nan               nan               nan               nan\n",
      "               nan               nan               nan               nan\n",
      "               nan               nan               nan               nan\n",
      "               nan               nan               nan               nan\n",
      "               nan               nan               nan               nan\n",
      "               nan               nan               nan               nan\n",
      "               nan               nan               nan               nan\n",
      "               nan               nan               nan               nan\n",
      "               nan               nan               nan               nan\n",
      "               nan               nan               nan               nan\n",
      "               nan               nan               nan               nan]\n"
     ]
    },
    {
     "name": "stderr",
     "output_type": "stream",
     "text": [
      "/Users/alexis/anaconda3/lib/python3.4/site-packages/numpy/__init__.py:1: RuntimeWarning: invalid value encountered in true_divide\n",
      "  \"\"\"\n"
     ]
    },
    {
     "data": {
      "text/plain": [
       "None"
      ]
     },
     "metadata": {},
     "output_type": "display_data"
    },
    {
     "data": {
      "image/png": "[encoded data removed]",
      "text/plain": [
       "<matplotlib.figure.Figure at 0x10960c630>"
      ]
     },
     "metadata": {},
     "output_type": "display_data"
    }
   ],
   "source": [
    "@interact(sig = FloatSlider(min=0.1, max=600, value=2))\n",
    "def plot(sig=1):\n",
    "    X = np.linspace(-50,50,1000)\n",
    "    f = lambdify(N, post.subs(sigma, sig), \"numpy\")\n",
    "    print(f(X))\n",
    "    plt.plot(X, f(X))"
   ]
  },
  {
   "cell_type": "code",
   "execution_count": null,
   "metadata": {
    "collapsed": true
   },
   "outputs": [],
   "source": []
  }
 ],
 "metadata": {
  "kernelspec": {
   "display_name": "Python 3",
   "language": "python",
   "name": "python3"
  },
  "language_info": {
   "codemirror_mode": {
    "name": "ipython",
    "version": 3
   },
   "file_extension": ".py",
   "mimetype": "text/x-python",
   "name": "python",
   "nbconvert_exporter": "python",
   "pygments_lexer": "ipython3",
   "version": "3.4.3"
  }
 },
 "nbformat": 4,
 "nbformat_minor": 0
}
